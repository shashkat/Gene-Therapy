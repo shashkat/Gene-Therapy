{
 "cells": [
  {
   "cell_type": "code",
   "execution_count": 14,
   "metadata": {},
   "outputs": [],
   "source": [
    "import subprocess\n",
    "import pandas as pd"
   ]
  },
  {
   "cell_type": "code",
   "execution_count": 37,
   "metadata": {},
   "outputs": [],
   "source": [
    "command = ['time','parallel','-k','-j','30',\"'zgrep\",'-o', '-F', '-f', 'barcodes_to_find.txt', '{}', '|', 'sort', '|', 'uniq', \"-c'\", ':::']"
   ]
  },
  {
   "cell_type": "code",
   "execution_count": 40,
   "metadata": {},
   "outputs": [
    {
     "name": "stderr",
     "output_type": "stream",
     "text": [
      "time: parallel: No such file or directory\n",
      "        0.00 real         0.00 user         0.00 sys\n"
     ]
    }
   ],
   "source": [
    "x = subprocess.run(command)"
   ]
  },
  {
   "cell_type": "code",
   "execution_count": 43,
   "metadata": {},
   "outputs": [
    {
     "data": {
      "text/plain": [
       "['time',\n",
       " 'parallel',\n",
       " '-k',\n",
       " '-j',\n",
       " '30',\n",
       " \"'zgrep\",\n",
       " '-o',\n",
       " '-F',\n",
       " '-f',\n",
       " 'barcodes_to_find.txt',\n",
       " '{}',\n",
       " '|',\n",
       " 'sort',\n",
       " '|',\n",
       " 'uniq',\n",
       " \"-c'\",\n",
       " ':::',\n",
       " 'ATCCTC',\n",
       " 'AGTATG']"
      ]
     },
     "execution_count": 43,
     "metadata": {},
     "output_type": "execute_result"
    }
   ],
   "source": [
    "command"
   ]
  },
  {
   "cell_type": "code",
   "execution_count": null,
   "metadata": {},
   "outputs": [],
   "source": [
    "complete = subprocess.run(['grep','-o','-e','ATC','temp.fastq'])"
   ]
  },
  {
   "cell_type": "code",
   "execution_count": 31,
   "metadata": {},
   "outputs": [],
   "source": [
    "strings = ['grep','-o','-f','barcodes_to_find_temp.txt','temp.fastq']"
   ]
  },
  {
   "cell_type": "code",
   "execution_count": 32,
   "metadata": {},
   "outputs": [
    {
     "name": "stdout",
     "output_type": "stream",
     "text": [
      "ATCCTC\n",
      "AGTATG\n"
     ]
    }
   ],
   "source": [
    "complete = subprocess.run(strings)"
   ]
  },
  {
   "cell_type": "code",
   "execution_count": 26,
   "metadata": {},
   "outputs": [
    {
     "data": {
      "text/plain": [
       "(b'', b'ATCCTC\\nAGTATG\\n', 0)"
      ]
     },
     "execution_count": 26,
     "metadata": {},
     "output_type": "execute_result"
    }
   ],
   "source": [
    "complete.stderr, complete.stdout, complete.returncode"
   ]
  },
  {
   "cell_type": "code",
   "execution_count": 11,
   "metadata": {},
   "outputs": [
    {
     "data": {
      "text/plain": [
       "'/Users/shashankkatiyar/Documents/github_repos/Gene-Therapy/finding_AAVs/testing'"
      ]
     },
     "execution_count": 11,
     "metadata": {},
     "output_type": "execute_result"
    }
   ],
   "source": [
    "pwd"
   ]
  },
  {
   "cell_type": "code",
   "execution_count": 12,
   "metadata": {},
   "outputs": [
    {
     "name": "stdout",
     "output_type": "stream",
     "text": [
      "total 24\n",
      "-rw-r--r--  1 shashankkatiyar  staff    19 Mar  3 13:51 barcodes_to_find_temp.txt\n",
      "-rw-r--r--  1 shashankkatiyar  staff     0 Mar  3 14:12 quantification_script_grep.ipynb\n",
      "-rw-r--r--  1 shashankkatiyar  staff  6258 Mar  3 13:46 temp.fastq\n"
     ]
    }
   ],
   "source": [
    "temp = subprocess.run(['ls','-l'])"
   ]
  },
  {
   "cell_type": "code",
   "execution_count": 16,
   "metadata": {},
   "outputs": [
    {
     "data": {
      "text/plain": [
       "0"
      ]
     },
     "execution_count": 16,
     "metadata": {},
     "output_type": "execute_result"
    }
   ],
   "source": [
    "temp.returncode"
   ]
  },
  {
   "cell_type": "code",
   "execution_count": null,
   "metadata": {},
   "outputs": [],
   "source": []
  }
 ],
 "metadata": {
  "kernelspec": {
   "display_name": "Python 3",
   "language": "python",
   "name": "python3"
  },
  "language_info": {
   "codemirror_mode": {
    "name": "ipython",
    "version": 3
   },
   "file_extension": ".py",
   "mimetype": "text/x-python",
   "name": "python",
   "nbconvert_exporter": "python",
   "pygments_lexer": "ipython3",
   "version": "3.7.8"
  }
 },
 "nbformat": 4,
 "nbformat_minor": 2
}
